{
  "nbformat": 4,
  "nbformat_minor": 0,
  "metadata": {
    "colab": {
      "name": "Class4.ipynb",
      "provenance": [],
      "collapsed_sections": [],
      "authorship_tag": "ABX9TyPovqmo4ZMgyE6LSv/AS5xZ",
      "include_colab_link": true
    },
    "kernelspec": {
      "name": "python3",
      "display_name": "Python 3"
    },
    "language_info": {
      "name": "python"
    }
  },
  "cells": [
    {
      "cell_type": "markdown",
      "metadata": {
        "id": "view-in-github",
        "colab_type": "text"
      },
      "source": [
        "<a href=\"https://colab.research.google.com/github/Adnan5153/Python/blob/main/Class4.ipynb\" target=\"_parent\"><img src=\"https://colab.research.google.com/assets/colab-badge.svg\" alt=\"Open In Colab\"/></a>"
      ]
    },
    {
      "cell_type": "markdown",
      "source": [
        ""
      ],
      "metadata": {
        "id": "B5bXhxVZucvX"
      }
    },
    {
      "cell_type": "code",
      "execution_count": 21,
      "metadata": {
        "id": "oGVFvLg2TEFl"
      },
      "outputs": [],
      "source": [
        "from sklearn.datasets import load_iris"
      ]
    },
    {
      "cell_type": "code",
      "source": [
        "irisData = load_iris()\n",
        "irisData"
      ],
      "metadata": {
        "id": "lnjtb-Lc0iTp"
      },
      "execution_count": null,
      "outputs": []
    },
    {
      "cell_type": "code",
      "source": [
        "print(irisData.data.shape)"
      ],
      "metadata": {
        "id": "r8xpXaO_0rhz"
      },
      "execution_count": null,
      "outputs": []
    },
    {
      "cell_type": "code",
      "source": [
        "print(irisData.target.shape)"
      ],
      "metadata": {
        "id": "cI7Bl4pb004U"
      },
      "execution_count": null,
      "outputs": []
    },
    {
      "cell_type": "code",
      "source": [
        "import pandas as pd\n",
        "df = pd.DataFrame(irisData.data, columns=irisData.feature_names)\n",
        "df.head()"
      ],
      "metadata": {
        "id": "lORMBC3x1HUl"
      },
      "execution_count": null,
      "outputs": []
    },
    {
      "cell_type": "code",
      "source": [
        "import pandas as pd\n",
        "df = pd.DataFrame(irisData.data, columns=irisData.feature_names)\n",
        "df.tail()"
      ],
      "metadata": {
        "id": "HXZnWZFP16hO"
      },
      "execution_count": null,
      "outputs": []
    },
    {
      "cell_type": "code",
      "source": [
        "import numpy as np\n",
        "df = pd.DataFrame(data = np.c_[irisData['data'], irisData['target']],\n",
        "                  columns = irisData['feature_names'] + ['target'])\n",
        "df"
      ],
      "metadata": {
        "id": "QYNBAZq32c5_"
      },
      "execution_count": null,
      "outputs": []
    },
    {
      "cell_type": "code",
      "source": [
        "import numpy as nm\n",
        "df = pd.DataFrame(data = np.c_[irisData['data']])\n",
        "df"
      ],
      "metadata": {
        "id": "TO38cpWp7bhu"
      },
      "execution_count": null,
      "outputs": []
    },
    {
      "cell_type": "code",
      "source": [
        "import numpy as nm\n",
        "df = pd.DataFrame(data = nm.c_[irisData['data'], irisData['target']],\n",
        "                  columns = irisData['feature_names'] + ['target'])\n",
        "df.head()"
      ],
      "metadata": {
        "id": "uYHWMRDB79sw"
      },
      "execution_count": null,
      "outputs": []
    },
    {
      "cell_type": "code",
      "source": [
        "import numpy as nm\n",
        "df = pd.DataFrame(data = nm.c_[irisData['data'], irisData['target']],\n",
        "                  columns = irisData['feature_names'] + ['target'])\n",
        "df.tail()"
      ],
      "metadata": {
        "id": "5SmYSq-N8CgM"
      },
      "execution_count": null,
      "outputs": []
    },
    {
      "cell_type": "code",
      "source": [
        "pd.options.display.max_rows = 150\n",
        "df"
      ],
      "metadata": {
        "id": "I1SnJZ4MMbiX"
      },
      "execution_count": null,
      "outputs": []
    },
    {
      "cell_type": "code",
      "source": [
        "df.plot(kind =\"scatter\",x =\"sepal length (cm)\",y =\"petal width (cm)\",c ='target',cmap =('autumn'))"
      ],
      "metadata": {
        "colab": {
          "base_uri": "https://localhost:8080/",
          "height": 275
        },
        "id": "dUMwGFN5M8_e",
        "outputId": "01aaf632-18e2-4eac-b798-4b3ae20c72c9"
      },
      "execution_count": 37,
      "outputs": [
        {
          "output_type": "execute_result",
          "data": {
            "text/plain": [
              "<matplotlib.axes._subplots.AxesSubplot at 0x7fd93185c150>"
            ]
          },
          "metadata": {},
          "execution_count": 37
        },
        {
          "output_type": "display_data",
          "data": {
            "text/plain": [
              "<Figure size 432x288 with 2 Axes>"
            ],
            "image/png": "[encoded data removed]"
          },
          "metadata": {
            "needs_background": "light"
          }
        }
      ]
    },
    {
      "cell_type": "code",
      "source": [
        ""
      ],
      "metadata": {
        "id": "rEfRJsZfOdd_"
      },
      "execution_count": null,
      "outputs": []
    }
  ]
}